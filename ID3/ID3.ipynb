{
 "cells": [
  {
   "cell_type": "code",
   "execution_count": 1,
   "id": "c8a34acb",
   "metadata": {},
   "outputs": [],
   "source": [
    "from sklearn.tree import DecisionTreeClassifier\n",
    "import pandas as pd\n",
    "from sklearn.metrics import confusion_matrix"
   ]
  },
  {
   "cell_type": "code",
   "execution_count": 2,
   "id": "d2c24d7c",
   "metadata": {},
   "outputs": [
    {
     "name": "stdout",
     "output_type": "stream",
     "text": [
      "   6  148  72  35    0  33.6  0.627  50  1\n",
      "0  1   85  66  29    0  26.6  0.351  31  0\n",
      "1  8  183  64   0    0  23.3  0.672  32  1\n",
      "2  1   89  66  23   94  28.1  0.167  21  0\n",
      "3  0  137  40  35  168  43.1  2.288  33  1\n",
      "4  5  116  74   0    0  25.6  0.201  30  0\n"
     ]
    }
   ],
   "source": [
    "dataset=pd.read_csv('pima-indians-diabetes.csv')\n",
    "print(dataset.head())"
   ]
  },
  {
   "cell_type": "code",
   "execution_count": 3,
   "id": "a54c3456",
   "metadata": {},
   "outputs": [],
   "source": [
    "train_features=dataset.iloc[:80,:-1]\n",
    "test_features=dataset.iloc[80:,:-1]\n",
    "train_targets=dataset.iloc[:80,-1]\n",
    "test_targets=dataset.iloc[80:,-1]"
   ]
  },
  {
   "cell_type": "code",
   "execution_count": 4,
   "id": "79f70de9",
   "metadata": {},
   "outputs": [],
   "source": [
    "tree1=DecisionTreeClassifier(criterion='entropy').fit(train_features,train_targets)\n",
    "prediction=tree1.predict(test_features)"
   ]
  },
  {
   "cell_type": "code",
   "execution_count": 5,
   "id": "78df2739",
   "metadata": {},
   "outputs": [
    {
     "name": "stdout",
     "output_type": "stream",
     "text": [
      "Confusion Matrix:\n",
      " [[299 153]\n",
      " [ 94 141]]\n"
     ]
    }
   ],
   "source": [
    "cm=confusion_matrix(test_targets,prediction)\n",
    "print('Confusion Matrix:\\n',cm)\n",
    "TP=cm[0][0]\n",
    "FP=cm[0][1]\n",
    "FN=cm[1][0]\n",
    "TN=cm[1][1]"
   ]
  },
  {
   "cell_type": "code",
   "execution_count": 6,
   "id": "6cc9805f",
   "metadata": {},
   "outputs": [
    {
     "name": "stdout",
     "output_type": "stream",
     "text": [
      "False Positive \n",
      " 153\n",
      "False Negative \n",
      " 94\n",
      "True Positive \n",
      " 299\n",
      "True Negative \n",
      " 141\n",
      "Senstivity \n",
      " 0.7608142493638677\n",
      "Specificity \n",
      " 0.47959183673469385\n",
      "Precision 0.661504424778761\n",
      "Recall \n",
      " 0.7608142493638677\n",
      "Accuracy \n",
      " 0.6404657933042213\n",
      "FScore  0.7076923076923077\n"
     ]
    }
   ],
   "source": [
    "print('False Positive \\n {}'.format(FP))\n",
    "print('False Negative \\n {}'.format(FN))\n",
    "print('True Positive \\n {}'.format(TP))\n",
    "print('True Negative \\n {}'.format(TN))\n",
    "TPR=TP/(TP+FN)\n",
    "print('Senstivity \\n {}'.format(TPR))\n",
    "TNR=TN/(TN+FP)\n",
    "print('Specificity \\n {}'.format(TNR))\n",
    "Precision=TP/(TP+FP)\n",
    "print('Precision {}'.format(Precision))\n",
    "Recall=TP/(TP+FN)\n",
    "print('Recall \\n {}'.format(Recall))\n",
    "Acc=(TP+TN)/(TP+TN+FP+FN)\n",
    "print('Accuracy \\n {}'.format(Acc))\n",
    "Fscore=2*(Precision*Recall)/(Precision+Recall)\n",
    "print('FScore  {}'.format(Fscore))"
   ]
  },
  {
   "cell_type": "code",
   "execution_count": null,
   "id": "7666e5bd",
   "metadata": {},
   "outputs": [],
   "source": []
  }
 ],
 "metadata": {
  "kernelspec": {
   "display_name": "Python 3 (ipykernel)",
   "language": "python",
   "name": "python3"
  },
  "language_info": {
   "codemirror_mode": {
    "name": "ipython",
    "version": 3
   },
   "file_extension": ".py",
   "mimetype": "text/x-python",
   "name": "python",
   "nbconvert_exporter": "python",
   "pygments_lexer": "ipython3",
   "version": "3.9.7"
  }
 },
 "nbformat": 4,
 "nbformat_minor": 5
}
