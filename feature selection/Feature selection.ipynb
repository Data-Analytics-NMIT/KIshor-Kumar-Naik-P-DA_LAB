{
 "cells": [
  {
   "cell_type": "markdown",
   "id": "072c855f",
   "metadata": {},
   "source": [
    "## Binarization"
   ]
  },
  {
   "cell_type": "code",
   "execution_count": 15,
   "id": "35d9f9a5",
   "metadata": {},
   "outputs": [],
   "source": [
    "import numpy as np\n",
    "import matplotlib.pyplot as plt\n",
    "import pandas as pd"
   ]
  },
  {
   "cell_type": "code",
   "execution_count": 16,
   "id": "4cdfa4b8",
   "metadata": {},
   "outputs": [
    {
     "data": {
      "text/html": [
       "<div>\n",
       "<style scoped>\n",
       "    .dataframe tbody tr th:only-of-type {\n",
       "        vertical-align: middle;\n",
       "    }\n",
       "\n",
       "    .dataframe tbody tr th {\n",
       "        vertical-align: top;\n",
       "    }\n",
       "\n",
       "    .dataframe thead th {\n",
       "        text-align: right;\n",
       "    }\n",
       "</style>\n",
       "<table border=\"1\" class=\"dataframe\">\n",
       "  <thead>\n",
       "    <tr style=\"text-align: right;\">\n",
       "      <th></th>\n",
       "      <th>Country</th>\n",
       "      <th>Age</th>\n",
       "      <th>Salary</th>\n",
       "      <th>Purchased</th>\n",
       "    </tr>\n",
       "  </thead>\n",
       "  <tbody>\n",
       "    <tr>\n",
       "      <th>0</th>\n",
       "      <td>France</td>\n",
       "      <td>44</td>\n",
       "      <td>72000</td>\n",
       "      <td>0</td>\n",
       "    </tr>\n",
       "    <tr>\n",
       "      <th>1</th>\n",
       "      <td>Spain</td>\n",
       "      <td>27</td>\n",
       "      <td>48000</td>\n",
       "      <td>1</td>\n",
       "    </tr>\n",
       "    <tr>\n",
       "      <th>2</th>\n",
       "      <td>Germany</td>\n",
       "      <td>30</td>\n",
       "      <td>54000</td>\n",
       "      <td>0</td>\n",
       "    </tr>\n",
       "    <tr>\n",
       "      <th>3</th>\n",
       "      <td>Spain</td>\n",
       "      <td>38</td>\n",
       "      <td>61000</td>\n",
       "      <td>0</td>\n",
       "    </tr>\n",
       "    <tr>\n",
       "      <th>4</th>\n",
       "      <td>Germany</td>\n",
       "      <td>40</td>\n",
       "      <td>1000</td>\n",
       "      <td>1</td>\n",
       "    </tr>\n",
       "  </tbody>\n",
       "</table>\n",
       "</div>"
      ],
      "text/plain": [
       "   Country  Age  Salary  Purchased\n",
       "0   France   44   72000          0\n",
       "1    Spain   27   48000          1\n",
       "2  Germany   30   54000          0\n",
       "3    Spain   38   61000          0\n",
       "4  Germany   40    1000          1"
      ]
     },
     "execution_count": 16,
     "metadata": {},
     "output_type": "execute_result"
    }
   ],
   "source": [
    "data_set = pd.read_csv('binarizationDataset.csv')\n",
    "data_set.head()"
   ]
  },
  {
   "cell_type": "code",
   "execution_count": 17,
   "id": "5918152b",
   "metadata": {},
   "outputs": [
    {
     "name": "stdout",
     "output_type": "stream",
     "text": [
      "\n",
      "Original age data values : \n",
      " [44 27 30 38 40 35 78 48 50 37]\n",
      "\n",
      "Original salary data values : \n",
      " [72000 48000 54000 61000  1000 58000 52000 79000 83000 67000]\n"
     ]
    }
   ],
   "source": [
    "age = data_set.iloc[:, 1].values\n",
    "salary = data_set.iloc[:, 2].values\n",
    "print (\"\\nOriginal age data values : \\n\",  age)\n",
    "print (\"\\nOriginal salary data values : \\n\",  salary)"
   ]
  },
  {
   "cell_type": "code",
   "execution_count": 18,
   "id": "2803103e",
   "metadata": {},
   "outputs": [],
   "source": [
    "from sklearn.preprocessing import Binarizer\n",
    " \n",
    "x = age\n",
    "x = x.reshape(1, -1)\n",
    "y = salary\n",
    "y = y.reshape(1, -1)"
   ]
  },
  {
   "cell_type": "code",
   "execution_count": 19,
   "id": "f2097bd6",
   "metadata": {},
   "outputs": [
    {
     "name": "stdout",
     "output_type": "stream",
     "text": [
      "\n",
      "Binarized age : \n",
      " [[1 0 0 1 1 0 1 1 1 1]]\n",
      "\n",
      "Binarized salary : \n",
      " [[1 0 0 0 0 0 0 1 1 1]]\n"
     ]
    }
   ],
   "source": [
    "binarizer_1 = Binarizer(threshold=35)\n",
    "binarizer_2 = Binarizer(threshold=61000)\n",
    " \n",
    "# Transformed feature\n",
    "print (\"\\nBinarized age : \\n\", binarizer_1.fit_transform(x))\n",
    " \n",
    "print (\"\\nBinarized salary : \\n\", binarizer_2.fit_transform(y))"
   ]
  },
  {
   "cell_type": "markdown",
   "id": "64ff1070",
   "metadata": {},
   "source": [
    "## Binning"
   ]
  },
  {
   "cell_type": "code",
   "execution_count": 9,
   "id": "bd347267",
   "metadata": {},
   "outputs": [],
   "source": [
    "import numpy as np\n",
    "import pandas as pd"
   ]
  },
  {
   "cell_type": "code",
   "execution_count": 10,
   "id": "2dae189a",
   "metadata": {},
   "outputs": [
    {
     "name": "stdout",
     "output_type": "stream",
     "text": [
      "[68 72 48 56 47 77 58 98 73 34 93 34 13 11 57 10 96 81 97 26]\n",
      "[6 7 4 5 4 7 5 9 7 3 9 3 1 1 5 1 9 8 9 2]\n"
     ]
    }
   ],
   "source": [
    "small_counts = np.random.randint(0, 100, 20)\n",
    "print(small_counts)\n",
    "print(np.floor_divide(small_counts, 10))"
   ]
  },
  {
   "cell_type": "code",
   "execution_count": 11,
   "id": "50d49f3f",
   "metadata": {},
   "outputs": [
    {
     "name": "stdout",
     "output_type": "stream",
     "text": [
      "[1 3 3 1 0 1 1 2 2 3 3 0 0 2 2 0]\n",
      "0.25      71.00\n",
      "0.50     896.50\n",
      "0.75    8049.75\n",
      "dtype: float64\n"
     ]
    }
   ],
   "source": [
    "large_counts = [296 ,8286, 64011, 80, 3, 725, 867, 2215, 7689, 11495, 91897, 44, 28, 7971, 926, 12]\n",
    "print(pd.qcut(large_counts, 4, labels=False))\n",
    "large_counts_series = pd.Series(large_counts)\n",
    "print(large_counts_series.quantile([0.25, 0.5, 0.75]))"
   ]
  },
  {
   "cell_type": "markdown",
   "id": "f9a9f068",
   "metadata": {},
   "source": [
    "## Scaling"
   ]
  },
  {
   "cell_type": "code",
   "execution_count": 12,
   "id": "256fd101",
   "metadata": {},
   "outputs": [],
   "source": [
    "import pandas as pd\n",
    "from sklearn import preprocessing\n"
   ]
  },
  {
   "cell_type": "code",
   "execution_count": 13,
   "id": "35181284",
   "metadata": {},
   "outputs": [
    {
     "name": "stdout",
     "output_type": "stream",
     "text": [
      "   country  age  salary purchased\n",
      "0   france   44   72000        no\n",
      "1    spain   27   48000       yes\n",
      "2  germany   30   54000        no\n",
      "3    spain   38   61000        no\n",
      "4  germany   40    1000       yes\n"
     ]
    }
   ],
   "source": [
    "data = pd.read_csv(\"bin.csv\")\n",
    "print(data)"
   ]
  },
  {
   "cell_type": "code",
   "execution_count": 14,
   "id": "4fc5bebb",
   "metadata": {},
   "outputs": [
    {
     "name": "stdout",
     "output_type": "stream",
     "text": [
      "[[   44 72000]\n",
      " [   27 48000]\n",
      " [   30 54000]\n",
      " [   38 61000]\n",
      " [   40  1000]]\n"
     ]
    }
   ],
   "source": [
    "x = data.iloc[:,1:3].values\n",
    "print(x)"
   ]
  },
  {
   "cell_type": "code",
   "execution_count": 17,
   "id": "21018565",
   "metadata": {},
   "outputs": [
    {
     "name": "stdout",
     "output_type": "stream",
     "text": [
      "[[1.         1.        ]\n",
      " [0.         0.66197183]\n",
      " [0.17647059 0.74647887]\n",
      " [0.64705882 0.84507042]\n",
      " [0.76470588 0.        ]]\n"
     ]
    }
   ],
   "source": [
    "## MIN MAX SCALER\n",
    "\n",
    "min_max_scaler = preprocessing.MinMaxScaler(feature_range = (0, 1))\n",
    "x_after_min_max_scaler = min_max_scaler.fit_transform(x)\n",
    "print(x_after_min_max_scaler)"
   ]
  },
  {
   "cell_type": "code",
   "execution_count": 16,
   "id": "7d6ed5e6",
   "metadata": {},
   "outputs": [
    {
     "name": "stdout",
     "output_type": "stream",
     "text": [
      "[[ 1.29394853  1.01469054]\n",
      " [-1.38862769  0.03273195]\n",
      " [-0.91523188  0.2782216 ]\n",
      " [ 0.34715692  0.56462619]\n",
      " [ 0.66275412 -1.89027028]]\n"
     ]
    }
   ],
   "source": [
    "## STANDARDIZATION\n",
    "\n",
    "\n",
    "stand = preprocessing.StandardScaler()\n",
    "x_after_Standardisation = stand.fit_transform(x)\n",
    "print(x_after_Standardisation)"
   ]
  },
  {
   "cell_type": "markdown",
   "id": "72a216f4",
   "metadata": {},
   "source": [
    "## LOG TRANSFORMATION"
   ]
  },
  {
   "cell_type": "code",
   "execution_count": 16,
   "id": "cda8dbed",
   "metadata": {},
   "outputs": [],
   "source": [
    "import pandas as pd\n",
    "import numpy as np\n"
   ]
  },
  {
   "cell_type": "code",
   "execution_count": 17,
   "id": "8e3d74a6",
   "metadata": {},
   "outputs": [
    {
     "name": "stdout",
     "output_type": "stream",
     "text": [
      "   value     log+1\n",
      "0      2  1.098612\n",
      "1     45  3.828641\n",
      "2    -23       NaN\n",
      "3     85  4.454347\n",
      "4     28  3.367296\n",
      "5      2  1.098612\n",
      "6     35  3.583519\n",
      "7    -12       NaN\n",
      "   value     log+1       log\n",
      "0      2  1.098612  3.258097\n",
      "1     45  3.828641  4.234107\n",
      "2    -23       NaN  0.000000\n",
      "3     85  4.454347  4.691348\n",
      "4     28  3.367296  3.951244\n",
      "5      2  1.098612  3.258097\n",
      "6     35  3.583519  4.077537\n",
      "7    -12       NaN  2.484907\n"
     ]
    }
   ],
   "source": [
    "data = pd.DataFrame({'value':[2, 45, -23, 85, 28,2,35,-12]})\n",
    "data['log+1'] = (data['value']+1).transform(np.log)\n",
    "print(data)\n",
    "\n",
    "data['log'] = (data['value']-data['value'].min()+1).transform(np.log)\n",
    "print(data)"
   ]
  }
 ],
 "metadata": {
  "kernelspec": {
   "display_name": "Python 3 (ipykernel)",
   "language": "python",
   "name": "python3"
  },
  "language_info": {
   "codemirror_mode": {
    "name": "ipython",
    "version": 3
   },
   "file_extension": ".py",
   "mimetype": "text/x-python",
   "name": "python",
   "nbconvert_exporter": "python",
   "pygments_lexer": "ipython3",
   "version": "3.9.7"
  }
 },
 "nbformat": 4,
 "nbformat_minor": 5
}
